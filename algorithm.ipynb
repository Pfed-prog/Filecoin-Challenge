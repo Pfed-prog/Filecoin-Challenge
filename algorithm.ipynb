{
 "cells": [
  {
   "cell_type": "code",
   "execution_count": 1,
   "metadata": {
    "_cell_guid": "b1076dfc-b9ad-4769-8c92-a6c4dae69d19",
    "_uuid": "8f2839f25d086af736a60e9eeb907d3b93b6e0e5"
   },
   "outputs": [],
   "source": [
    "import numpy as np\n",
    "import pandas as pd\n",
    "from datetime import datetime\n",
    "\n",
    "from sklearn.compose import ColumnTransformer\n",
    "from sklearn.pipeline import Pipeline\n",
    "from sklearn.preprocessing import StandardScaler, OneHotEncoder, LabelEncoder, RobustScaler, PowerTransformer, PolynomialFeatures, MinMaxScaler\n",
    "from sklearn.ensemble import RandomForestRegressor, GradientBoostingRegressor, AdaBoostRegressor, StackingRegressor\n",
    "from sklearn.metrics import mean_absolute_error\n",
    "from sklearn.feature_selection import SelectFromModel\n",
    "from sklearn.neural_network import MLPRegressor\n",
    "from sklearn.impute import SimpleImputer\n",
    "from sklearn import set_config"
   ]
  },
  {
   "cell_type": "code",
   "execution_count": 2,
   "metadata": {},
   "outputs": [],
   "source": [
    "# Energy Intensity\n",
    "\n",
    "URL_0 = 'https://api.filgreen.d.interplanetary.one/models/model?id=0'\n",
    "\n",
    "data_0 = pd.read_json(URL_0)\n",
    "\n",
    "# Energy consumption rate\n",
    "\n",
    "URL_2 = 'https://api.filgreen.d.interplanetary.one/models/model?id=2'\n",
    "\n",
    "data_2 = pd.read_json(URL_2)\n",
    "\n",
    "# Energy used to seal data \n",
    "\n",
    "URL_3 = 'https://api.filgreen.d.interplanetary.one/models/model?id=3'\n",
    "\n",
    "data_3 = pd.read_json(URL_3)\n",
    "\n",
    "# Energy used to store data \n",
    "\n",
    "URL_4 = 'https://api.filgreen.d.interplanetary.one/models/model?id=4'\n",
    "\n",
    "data_4 = pd.read_json(URL_4)\n",
    "\n",
    "# Cumulative Energy Use\n",
    "\n",
    "URL_5 = 'https://api.filgreen.d.interplanetary.one/models/model?id=5'\n",
    "\n",
    "data_5 = pd.read_json(URL_5)\n",
    "\n",
    "# Data Storage capacity added per day\n",
    "\n",
    "URL_7 = 'https://api.filgreen.d.interplanetary.one/models/model?id=7'\n",
    "\n",
    "data_7 = pd.read_json(URL_7)"
   ]
  },
  {
   "cell_type": "code",
   "execution_count": 3,
   "metadata": {},
   "outputs": [],
   "source": [
    "df_0 = pd.json_normalize(data_0['data'][1]['data'])\n",
    "df_2 = pd.json_normalize(data_2['data'][1]['data'])\n",
    "df_3 = pd.json_normalize(data_3['data'][1]['data'])\n",
    "df_4 = pd.json_normalize(data_4['data'][0]['data'])\n",
    "df_5 = pd.json_normalize(data_5['data'][1]['data'])\n",
    "df_7 = pd.json_normalize(data_7['data'][0]['data'])"
   ]
  },
  {
   "cell_type": "code",
   "execution_count": 388,
   "metadata": {
    "execution": {
     "iopub.execute_input": "2022-12-09T21:25:43.915191Z",
     "iopub.status.busy": "2022-12-09T21:25:43.914455Z",
     "iopub.status.idle": "2022-12-09T21:25:43.933747Z",
     "shell.execute_reply": "2022-12-09T21:25:43.932656Z",
     "shell.execute_reply.started": "2022-12-09T21:25:43.915145Z"
    }
   },
   "outputs": [],
   "source": [
    "df = pd.DataFrame()\n",
    "\n",
    "df['Date'] = pd.to_datetime(df_0[68:-9].start_date, utc=True)\n",
    "df['year'] = df.Date.dt.year\n",
    "df['month'] = df.Date.dt.month\n",
    "\n",
    "df['Energy Intensity'] = df_0[68:-9].value\n",
    "df['Energy consumption rate'] = df_2[68:-9].value\n",
    "df['Energy used to seal data'] = df_4[68:-9].value\n",
    "df['Cumulative Energy Use'] = df_5[68:-9].value\n",
    "df['Data Storage capacity added per day'] = df_7[68:-9].value"
   ]
  },
  {
   "cell_type": "code",
   "execution_count": 389,
   "metadata": {
    "execution": {
     "iopub.execute_input": "2022-12-09T21:25:43.937193Z",
     "iopub.status.busy": "2022-12-09T21:25:43.936855Z",
     "iopub.status.idle": "2022-12-09T21:25:43.955377Z",
     "shell.execute_reply": "2022-12-09T21:25:43.954338Z",
     "shell.execute_reply.started": "2022-12-09T21:25:43.937163Z"
    }
   },
   "outputs": [],
   "source": [
    "binance_data = pd.read_csv(\"/kaggle/input/binance-filusdt/FILUSDT-1d.csv\")"
   ]
  },
  {
   "cell_type": "code",
   "execution_count": 390,
   "metadata": {
    "execution": {
     "iopub.execute_input": "2022-12-09T21:25:43.957362Z",
     "iopub.status.busy": "2022-12-09T21:25:43.956582Z",
     "iopub.status.idle": "2022-12-09T21:25:43.963933Z",
     "shell.execute_reply": "2022-12-09T21:25:43.962850Z",
     "shell.execute_reply.started": "2022-12-09T21:25:43.957316Z"
    }
   },
   "outputs": [],
   "source": [
    "binance_data.open_time = binance_data.open_time.apply(lambda x: datetime.utcfromtimestamp(x / 1000))"
   ]
  },
  {
   "cell_type": "code",
   "execution_count": 391,
   "metadata": {
    "execution": {
     "iopub.execute_input": "2022-12-09T21:25:43.966025Z",
     "iopub.status.busy": "2022-12-09T21:25:43.965345Z",
     "iopub.status.idle": "2022-12-09T21:25:43.975342Z",
     "shell.execute_reply": "2022-12-09T21:25:43.974558Z",
     "shell.execute_reply.started": "2022-12-09T21:25:43.965984Z"
    }
   },
   "outputs": [],
   "source": [
    "binance_data_columns = ['open', 'high', 'low', 'close', 'volume',\n",
    "       'qav', 'num_trades', 'taker_base_vol', 'taker_quote_vol', 'Date']"
   ]
  },
  {
   "cell_type": "code",
   "execution_count": 392,
   "metadata": {
    "execution": {
     "iopub.execute_input": "2022-12-09T21:25:43.977551Z",
     "iopub.status.busy": "2022-12-09T21:25:43.976507Z",
     "iopub.status.idle": "2022-12-09T21:25:43.989990Z",
     "shell.execute_reply": "2022-12-09T21:25:43.989140Z",
     "shell.execute_reply.started": "2022-12-09T21:25:43.977508Z"
    }
   },
   "outputs": [],
   "source": [
    "binance_data['Date'] = pd.to_datetime(binance_data['open_time'], utc=True)"
   ]
  },
  {
   "cell_type": "code",
   "execution_count": 393,
   "metadata": {
    "execution": {
     "iopub.execute_input": "2022-12-09T21:25:43.992342Z",
     "iopub.status.busy": "2022-12-09T21:25:43.991459Z",
     "iopub.status.idle": "2022-12-09T21:25:44.006840Z",
     "shell.execute_reply": "2022-12-09T21:25:44.006014Z",
     "shell.execute_reply.started": "2022-12-09T21:25:43.992298Z"
    }
   },
   "outputs": [],
   "source": [
    "df = df.merge(binance_data[binance_data_columns][17:-9], on='Date')"
   ]
  },
  {
   "cell_type": "code",
   "execution_count": 394,
   "metadata": {
    "execution": {
     "iopub.execute_input": "2022-12-09T21:25:44.009673Z",
     "iopub.status.busy": "2022-12-09T21:25:44.008375Z",
     "iopub.status.idle": "2022-12-09T21:25:44.061138Z",
     "shell.execute_reply": "2022-12-09T21:25:44.059757Z",
     "shell.execute_reply.started": "2022-12-09T21:25:44.009626Z"
    }
   },
   "outputs": [],
   "source": [
    "final_df = df.groupby(['year', 'month']).agg([np.mean, np.median, np.sum])\n",
    "final_df = final_df.replace([np.inf, -np.inf], np.nan).dropna(axis=1)"
   ]
  },
  {
   "cell_type": "code",
   "execution_count": 395,
   "metadata": {
    "execution": {
     "iopub.execute_input": "2022-12-09T21:25:44.066741Z",
     "iopub.status.busy": "2022-12-09T21:25:44.066323Z",
     "iopub.status.idle": "2022-12-09T21:25:44.079414Z",
     "shell.execute_reply": "2022-12-09T21:25:44.077937Z",
     "shell.execute_reply.started": "2022-12-09T21:25:44.066707Z"
    }
   },
   "outputs": [],
   "source": [
    "final_df = final_df.append(final_df[-1:], ignore_index=True)"
   ]
  },
  {
   "cell_type": "code",
   "execution_count": 396,
   "metadata": {
    "execution": {
     "iopub.execute_input": "2022-12-09T21:25:44.082165Z",
     "iopub.status.busy": "2022-12-09T21:25:44.080997Z",
     "iopub.status.idle": "2022-12-09T21:25:44.107946Z",
     "shell.execute_reply": "2022-12-09T21:25:44.107113Z",
     "shell.execute_reply.started": "2022-12-09T21:25:44.082119Z"
    }
   },
   "outputs": [],
   "source": [
    "for x in final_df.columns:\n",
    "    final_df[x] = final_df[x].shift(1)"
   ]
  },
  {
   "cell_type": "code",
   "execution_count": 397,
   "metadata": {
    "execution": {
     "iopub.execute_input": "2022-12-09T21:25:44.110499Z",
     "iopub.status.busy": "2022-12-09T21:25:44.109783Z",
     "iopub.status.idle": "2022-12-09T21:25:44.119434Z",
     "shell.execute_reply": "2022-12-09T21:25:44.118163Z",
     "shell.execute_reply.started": "2022-12-09T21:25:44.110457Z"
    }
   },
   "outputs": [],
   "source": [
    "final_df = final_df.dropna(axis=0)"
   ]
  },
  {
   "cell_type": "code",
   "execution_count": 398,
   "metadata": {
    "execution": {
     "iopub.execute_input": "2022-12-09T21:25:44.121581Z",
     "iopub.status.busy": "2022-12-09T21:25:44.121120Z",
     "iopub.status.idle": "2022-12-09T21:25:44.142536Z",
     "shell.execute_reply": "2022-12-09T21:25:44.141279Z",
     "shell.execute_reply.started": "2022-12-09T21:25:44.121538Z"
    }
   },
   "outputs": [],
   "source": [
    "for col in final_df.columns:\n",
    "    final_df[x] = final_df[x].astype(float)"
   ]
  },
  {
   "cell_type": "markdown",
   "metadata": {},
   "source": [
    "# Training"
   ]
  },
  {
   "cell_type": "code",
   "execution_count": 399,
   "metadata": {
    "execution": {
     "iopub.execute_input": "2022-12-09T21:25:44.144149Z",
     "iopub.status.busy": "2022-12-09T21:25:44.143808Z",
     "iopub.status.idle": "2022-12-09T21:25:44.149758Z",
     "shell.execute_reply": "2022-12-09T21:25:44.148519Z",
     "shell.execute_reply.started": "2022-12-09T21:25:44.144122Z"
    }
   },
   "outputs": [],
   "source": [
    "ceiling = int(len(final_df)*0.8)\n",
    "train, test = final_df[:ceiling], final_df[ceiling:]"
   ]
  },
  {
   "cell_type": "code",
   "execution_count": 400,
   "metadata": {
    "execution": {
     "iopub.execute_input": "2022-12-09T21:25:44.151460Z",
     "iopub.status.busy": "2022-12-09T21:25:44.151151Z",
     "iopub.status.idle": "2022-12-09T21:25:44.161998Z",
     "shell.execute_reply": "2022-12-09T21:25:44.160892Z",
     "shell.execute_reply.started": "2022-12-09T21:25:44.151432Z"
    }
   },
   "outputs": [],
   "source": [
    "cols = [\n",
    "            (                               'open',   'mean'),\n",
    "            (                               'open', 'median'),\n",
    "            (                               'open',    'sum'),\n",
    "            (                               'high',   'mean'),\n",
    "            (                               'high', 'median'),\n",
    "            (                               'high',    'sum'),\n",
    "            (                                'low',   'mean'),\n",
    "            (                                'low', 'median'),\n",
    "            (                                'low',    'sum'),\n",
    "            (                              'close',   'mean'),\n",
    "            (                              'close', 'median'),\n",
    "            (                              'close',    'sum'),\n",
    "            (                             'volume',   'mean'),\n",
    "            (                             'volume', 'median'),\n",
    "            (                             'volume',    'sum'),\n",
    "            (                                'qav',   'mean'),\n",
    "            (                                'qav', 'median'),\n",
    "            (                                'qav',    'sum'),\n",
    "            (                         'num_trades',   'mean'),\n",
    "            (                         'num_trades', 'median'),\n",
    "            (                         'num_trades',    'sum'),\n",
    "            (                     'taker_base_vol',   'mean'),\n",
    "            (                     'taker_base_vol', 'median'),\n",
    "            (                     'taker_base_vol',    'sum'),\n",
    "            (                    'taker_quote_vol',   'mean'),\n",
    "            (                    'taker_quote_vol', 'median'),\n",
    "            (                    'taker_quote_vol',    'sum')]"
   ]
  },
  {
   "cell_type": "code",
   "execution_count": 401,
   "metadata": {
    "execution": {
     "iopub.execute_input": "2022-12-09T21:25:44.163747Z",
     "iopub.status.busy": "2022-12-09T21:25:44.163441Z",
     "iopub.status.idle": "2022-12-09T21:25:44.178783Z",
     "shell.execute_reply": "2022-12-09T21:25:44.177407Z",
     "shell.execute_reply.started": "2022-12-09T21:25:44.163719Z"
    }
   },
   "outputs": [],
   "source": [
    "clf_xg = Pipeline(steps=[\n",
    "                    ('imputer', SimpleImputer()),\n",
    "                    ('pre', RobustScaler()),\n",
    "                    ('poly', PolynomialFeatures(2)),\n",
    "                    ('selection', SelectFromModel(estimator=RandomForestRegressor(n_estimators=150, random_state=1))),\n",
    "                    ('model', RandomForestRegressor(n_estimators=450, random_state=1))\n",
    "                    ])"
   ]
  },
  {
   "cell_type": "code",
   "execution_count": 402,
   "metadata": {
    "execution": {
     "iopub.execute_input": "2022-12-09T21:25:44.180760Z",
     "iopub.status.busy": "2022-12-09T21:25:44.179994Z",
     "iopub.status.idle": "2022-12-09T21:25:44.219199Z",
     "shell.execute_reply": "2022-12-09T21:25:44.217858Z",
     "shell.execute_reply.started": "2022-12-09T21:25:44.180723Z"
    }
   },
   "outputs": [
    {
     "data": {
      "text/html": [
       "<style>#sk-9ead5941-ca16-4bcf-b82a-582adf944fc0 {color: black;background-color: white;}#sk-9ead5941-ca16-4bcf-b82a-582adf944fc0 pre{padding: 0;}#sk-9ead5941-ca16-4bcf-b82a-582adf944fc0 div.sk-toggleable {background-color: white;}#sk-9ead5941-ca16-4bcf-b82a-582adf944fc0 label.sk-toggleable__label {cursor: pointer;display: block;width: 100%;margin-bottom: 0;padding: 0.3em;box-sizing: border-box;text-align: center;}#sk-9ead5941-ca16-4bcf-b82a-582adf944fc0 label.sk-toggleable__label-arrow:before {content: \"▸\";float: left;margin-right: 0.25em;color: #696969;}#sk-9ead5941-ca16-4bcf-b82a-582adf944fc0 label.sk-toggleable__label-arrow:hover:before {color: black;}#sk-9ead5941-ca16-4bcf-b82a-582adf944fc0 div.sk-estimator:hover label.sk-toggleable__label-arrow:before {color: black;}#sk-9ead5941-ca16-4bcf-b82a-582adf944fc0 div.sk-toggleable__content {max-height: 0;max-width: 0;overflow: hidden;text-align: left;background-color: #f0f8ff;}#sk-9ead5941-ca16-4bcf-b82a-582adf944fc0 div.sk-toggleable__content pre {margin: 0.2em;color: black;border-radius: 0.25em;background-color: #f0f8ff;}#sk-9ead5941-ca16-4bcf-b82a-582adf944fc0 input.sk-toggleable__control:checked~div.sk-toggleable__content {max-height: 200px;max-width: 100%;overflow: auto;}#sk-9ead5941-ca16-4bcf-b82a-582adf944fc0 input.sk-toggleable__control:checked~label.sk-toggleable__label-arrow:before {content: \"▾\";}#sk-9ead5941-ca16-4bcf-b82a-582adf944fc0 div.sk-estimator input.sk-toggleable__control:checked~label.sk-toggleable__label {background-color: #d4ebff;}#sk-9ead5941-ca16-4bcf-b82a-582adf944fc0 div.sk-label input.sk-toggleable__control:checked~label.sk-toggleable__label {background-color: #d4ebff;}#sk-9ead5941-ca16-4bcf-b82a-582adf944fc0 input.sk-hidden--visually {border: 0;clip: rect(1px 1px 1px 1px);clip: rect(1px, 1px, 1px, 1px);height: 1px;margin: -1px;overflow: hidden;padding: 0;position: absolute;width: 1px;}#sk-9ead5941-ca16-4bcf-b82a-582adf944fc0 div.sk-estimator {font-family: monospace;background-color: #f0f8ff;border: 1px dotted black;border-radius: 0.25em;box-sizing: border-box;margin-bottom: 0.5em;}#sk-9ead5941-ca16-4bcf-b82a-582adf944fc0 div.sk-estimator:hover {background-color: #d4ebff;}#sk-9ead5941-ca16-4bcf-b82a-582adf944fc0 div.sk-parallel-item::after {content: \"\";width: 100%;border-bottom: 1px solid gray;flex-grow: 1;}#sk-9ead5941-ca16-4bcf-b82a-582adf944fc0 div.sk-label:hover label.sk-toggleable__label {background-color: #d4ebff;}#sk-9ead5941-ca16-4bcf-b82a-582adf944fc0 div.sk-serial::before {content: \"\";position: absolute;border-left: 1px solid gray;box-sizing: border-box;top: 2em;bottom: 0;left: 50%;}#sk-9ead5941-ca16-4bcf-b82a-582adf944fc0 div.sk-serial {display: flex;flex-direction: column;align-items: center;background-color: white;padding-right: 0.2em;padding-left: 0.2em;}#sk-9ead5941-ca16-4bcf-b82a-582adf944fc0 div.sk-item {z-index: 1;}#sk-9ead5941-ca16-4bcf-b82a-582adf944fc0 div.sk-parallel {display: flex;align-items: stretch;justify-content: center;background-color: white;}#sk-9ead5941-ca16-4bcf-b82a-582adf944fc0 div.sk-parallel::before {content: \"\";position: absolute;border-left: 1px solid gray;box-sizing: border-box;top: 2em;bottom: 0;left: 50%;}#sk-9ead5941-ca16-4bcf-b82a-582adf944fc0 div.sk-parallel-item {display: flex;flex-direction: column;position: relative;background-color: white;}#sk-9ead5941-ca16-4bcf-b82a-582adf944fc0 div.sk-parallel-item:first-child::after {align-self: flex-end;width: 50%;}#sk-9ead5941-ca16-4bcf-b82a-582adf944fc0 div.sk-parallel-item:last-child::after {align-self: flex-start;width: 50%;}#sk-9ead5941-ca16-4bcf-b82a-582adf944fc0 div.sk-parallel-item:only-child::after {width: 0;}#sk-9ead5941-ca16-4bcf-b82a-582adf944fc0 div.sk-dashed-wrapped {border: 1px dashed gray;margin: 0 0.4em 0.5em 0.4em;box-sizing: border-box;padding-bottom: 0.4em;background-color: white;position: relative;}#sk-9ead5941-ca16-4bcf-b82a-582adf944fc0 div.sk-label label {font-family: monospace;font-weight: bold;background-color: white;display: inline-block;line-height: 1.2em;}#sk-9ead5941-ca16-4bcf-b82a-582adf944fc0 div.sk-label-container {position: relative;z-index: 2;text-align: center;}#sk-9ead5941-ca16-4bcf-b82a-582adf944fc0 div.sk-container {/* jupyter's `normalize.less` sets `[hidden] { display: none; }` but bootstrap.min.css set `[hidden] { display: none !important; }` so we also need the `!important` here to be able to override the default hidden behavior on the sphinx rendered scikit-learn.org. See: https://github.com/scikit-learn/scikit-learn/issues/21755 */display: inline-block !important;position: relative;}#sk-9ead5941-ca16-4bcf-b82a-582adf944fc0 div.sk-text-repr-fallback {display: none;}</style><div id=\"sk-9ead5941-ca16-4bcf-b82a-582adf944fc0\" class=\"sk-top-container\"><div class=\"sk-text-repr-fallback\"><pre>Pipeline(steps=[(&#x27;imputer&#x27;, SimpleImputer()), (&#x27;pre&#x27;, RobustScaler()),\n",
       "                (&#x27;poly&#x27;, PolynomialFeatures()),\n",
       "                (&#x27;selection&#x27;,\n",
       "                 SelectFromModel(estimator=RandomForestRegressor(n_estimators=150,\n",
       "                                                                 random_state=1))),\n",
       "                (&#x27;model&#x27;,\n",
       "                 RandomForestRegressor(n_estimators=450, random_state=1))])</pre><b>Please rerun this cell to show the HTML repr or trust the notebook.</b></div><div class=\"sk-container\" hidden><div class=\"sk-item sk-dashed-wrapped\"><div class=\"sk-label-container\"><div class=\"sk-label sk-toggleable\"><input class=\"sk-toggleable__control sk-hidden--visually\" id=\"c26b95cd-24b6-4f8f-8f20-3e79808f2ff3\" type=\"checkbox\" ><label for=\"c26b95cd-24b6-4f8f-8f20-3e79808f2ff3\" class=\"sk-toggleable__label sk-toggleable__label-arrow\">Pipeline</label><div class=\"sk-toggleable__content\"><pre>Pipeline(steps=[(&#x27;imputer&#x27;, SimpleImputer()), (&#x27;pre&#x27;, RobustScaler()),\n",
       "                (&#x27;poly&#x27;, PolynomialFeatures()),\n",
       "                (&#x27;selection&#x27;,\n",
       "                 SelectFromModel(estimator=RandomForestRegressor(n_estimators=150,\n",
       "                                                                 random_state=1))),\n",
       "                (&#x27;model&#x27;,\n",
       "                 RandomForestRegressor(n_estimators=450, random_state=1))])</pre></div></div></div><div class=\"sk-serial\"><div class=\"sk-item\"><div class=\"sk-estimator sk-toggleable\"><input class=\"sk-toggleable__control sk-hidden--visually\" id=\"c7b732ad-e0df-4666-a4a0-d549e5d2639d\" type=\"checkbox\" ><label for=\"c7b732ad-e0df-4666-a4a0-d549e5d2639d\" class=\"sk-toggleable__label sk-toggleable__label-arrow\">SimpleImputer</label><div class=\"sk-toggleable__content\"><pre>SimpleImputer()</pre></div></div></div><div class=\"sk-item\"><div class=\"sk-estimator sk-toggleable\"><input class=\"sk-toggleable__control sk-hidden--visually\" id=\"581f4628-2223-4944-abc8-fcb0f7c8d4a6\" type=\"checkbox\" ><label for=\"581f4628-2223-4944-abc8-fcb0f7c8d4a6\" class=\"sk-toggleable__label sk-toggleable__label-arrow\">RobustScaler</label><div class=\"sk-toggleable__content\"><pre>RobustScaler()</pre></div></div></div><div class=\"sk-item\"><div class=\"sk-estimator sk-toggleable\"><input class=\"sk-toggleable__control sk-hidden--visually\" id=\"90432bb7-377b-4bae-bcb9-24195ea8918c\" type=\"checkbox\" ><label for=\"90432bb7-377b-4bae-bcb9-24195ea8918c\" class=\"sk-toggleable__label sk-toggleable__label-arrow\">PolynomialFeatures</label><div class=\"sk-toggleable__content\"><pre>PolynomialFeatures()</pre></div></div></div><div class=\"sk-item sk-dashed-wrapped\"><div class=\"sk-label-container\"><div class=\"sk-label sk-toggleable\"><input class=\"sk-toggleable__control sk-hidden--visually\" id=\"2a932fa5-7425-468f-85a7-0d53119ef156\" type=\"checkbox\" ><label for=\"2a932fa5-7425-468f-85a7-0d53119ef156\" class=\"sk-toggleable__label sk-toggleable__label-arrow\">selection: SelectFromModel</label><div class=\"sk-toggleable__content\"><pre>SelectFromModel(estimator=RandomForestRegressor(n_estimators=150,\n",
       "                                                random_state=1))</pre></div></div></div><div class=\"sk-parallel\"><div class=\"sk-parallel-item\"><div class=\"sk-item\"><div class=\"sk-serial\"><div class=\"sk-item\"><div class=\"sk-estimator sk-toggleable\"><input class=\"sk-toggleable__control sk-hidden--visually\" id=\"595b4fe8-9cf0-4a0e-b576-535c558fb0e6\" type=\"checkbox\" ><label for=\"595b4fe8-9cf0-4a0e-b576-535c558fb0e6\" class=\"sk-toggleable__label sk-toggleable__label-arrow\">RandomForestRegressor</label><div class=\"sk-toggleable__content\"><pre>RandomForestRegressor(n_estimators=150, random_state=1)</pre></div></div></div></div></div></div></div></div><div class=\"sk-item\"><div class=\"sk-estimator sk-toggleable\"><input class=\"sk-toggleable__control sk-hidden--visually\" id=\"70021c53-7981-4fdb-9538-bfcf4be62e4d\" type=\"checkbox\" ><label for=\"70021c53-7981-4fdb-9538-bfcf4be62e4d\" class=\"sk-toggleable__label sk-toggleable__label-arrow\">RandomForestRegressor</label><div class=\"sk-toggleable__content\"><pre>RandomForestRegressor(n_estimators=450, random_state=1)</pre></div></div></div></div></div></div></div>"
      ],
      "text/plain": [
       "Pipeline(steps=[('imputer', SimpleImputer()), ('pre', RobustScaler()),\n",
       "                ('poly', PolynomialFeatures()),\n",
       "                ('selection',\n",
       "                 SelectFromModel(estimator=RandomForestRegressor(n_estimators=150,\n",
       "                                                                 random_state=1))),\n",
       "                ('model',\n",
       "                 RandomForestRegressor(n_estimators=450, random_state=1))])"
      ]
     },
     "execution_count": 402,
     "metadata": {},
     "output_type": "execute_result"
    }
   ],
   "source": [
    "set_config(display=\"diagram\")\n",
    "clf_xg"
   ]
  },
  {
   "cell_type": "code",
   "execution_count": 408,
   "metadata": {
    "execution": {
     "iopub.execute_input": "2022-12-09T21:26:32.324360Z",
     "iopub.status.busy": "2022-12-09T21:26:32.323947Z",
     "iopub.status.idle": "2022-12-09T21:26:33.266822Z",
     "shell.execute_reply": "2022-12-09T21:26:33.265739Z",
     "shell.execute_reply.started": "2022-12-09T21:26:32.324321Z"
    }
   },
   "outputs": [
    {
     "data": {
      "text/html": [
       "<style>#sk-02d24667-ba9d-4af3-a932-96bea9b27d68 {color: black;background-color: white;}#sk-02d24667-ba9d-4af3-a932-96bea9b27d68 pre{padding: 0;}#sk-02d24667-ba9d-4af3-a932-96bea9b27d68 div.sk-toggleable {background-color: white;}#sk-02d24667-ba9d-4af3-a932-96bea9b27d68 label.sk-toggleable__label {cursor: pointer;display: block;width: 100%;margin-bottom: 0;padding: 0.3em;box-sizing: border-box;text-align: center;}#sk-02d24667-ba9d-4af3-a932-96bea9b27d68 label.sk-toggleable__label-arrow:before {content: \"▸\";float: left;margin-right: 0.25em;color: #696969;}#sk-02d24667-ba9d-4af3-a932-96bea9b27d68 label.sk-toggleable__label-arrow:hover:before {color: black;}#sk-02d24667-ba9d-4af3-a932-96bea9b27d68 div.sk-estimator:hover label.sk-toggleable__label-arrow:before {color: black;}#sk-02d24667-ba9d-4af3-a932-96bea9b27d68 div.sk-toggleable__content {max-height: 0;max-width: 0;overflow: hidden;text-align: left;background-color: #f0f8ff;}#sk-02d24667-ba9d-4af3-a932-96bea9b27d68 div.sk-toggleable__content pre {margin: 0.2em;color: black;border-radius: 0.25em;background-color: #f0f8ff;}#sk-02d24667-ba9d-4af3-a932-96bea9b27d68 input.sk-toggleable__control:checked~div.sk-toggleable__content {max-height: 200px;max-width: 100%;overflow: auto;}#sk-02d24667-ba9d-4af3-a932-96bea9b27d68 input.sk-toggleable__control:checked~label.sk-toggleable__label-arrow:before {content: \"▾\";}#sk-02d24667-ba9d-4af3-a932-96bea9b27d68 div.sk-estimator input.sk-toggleable__control:checked~label.sk-toggleable__label {background-color: #d4ebff;}#sk-02d24667-ba9d-4af3-a932-96bea9b27d68 div.sk-label input.sk-toggleable__control:checked~label.sk-toggleable__label {background-color: #d4ebff;}#sk-02d24667-ba9d-4af3-a932-96bea9b27d68 input.sk-hidden--visually {border: 0;clip: rect(1px 1px 1px 1px);clip: rect(1px, 1px, 1px, 1px);height: 1px;margin: -1px;overflow: hidden;padding: 0;position: absolute;width: 1px;}#sk-02d24667-ba9d-4af3-a932-96bea9b27d68 div.sk-estimator {font-family: monospace;background-color: #f0f8ff;border: 1px dotted black;border-radius: 0.25em;box-sizing: border-box;margin-bottom: 0.5em;}#sk-02d24667-ba9d-4af3-a932-96bea9b27d68 div.sk-estimator:hover {background-color: #d4ebff;}#sk-02d24667-ba9d-4af3-a932-96bea9b27d68 div.sk-parallel-item::after {content: \"\";width: 100%;border-bottom: 1px solid gray;flex-grow: 1;}#sk-02d24667-ba9d-4af3-a932-96bea9b27d68 div.sk-label:hover label.sk-toggleable__label {background-color: #d4ebff;}#sk-02d24667-ba9d-4af3-a932-96bea9b27d68 div.sk-serial::before {content: \"\";position: absolute;border-left: 1px solid gray;box-sizing: border-box;top: 2em;bottom: 0;left: 50%;}#sk-02d24667-ba9d-4af3-a932-96bea9b27d68 div.sk-serial {display: flex;flex-direction: column;align-items: center;background-color: white;padding-right: 0.2em;padding-left: 0.2em;}#sk-02d24667-ba9d-4af3-a932-96bea9b27d68 div.sk-item {z-index: 1;}#sk-02d24667-ba9d-4af3-a932-96bea9b27d68 div.sk-parallel {display: flex;align-items: stretch;justify-content: center;background-color: white;}#sk-02d24667-ba9d-4af3-a932-96bea9b27d68 div.sk-parallel::before {content: \"\";position: absolute;border-left: 1px solid gray;box-sizing: border-box;top: 2em;bottom: 0;left: 50%;}#sk-02d24667-ba9d-4af3-a932-96bea9b27d68 div.sk-parallel-item {display: flex;flex-direction: column;position: relative;background-color: white;}#sk-02d24667-ba9d-4af3-a932-96bea9b27d68 div.sk-parallel-item:first-child::after {align-self: flex-end;width: 50%;}#sk-02d24667-ba9d-4af3-a932-96bea9b27d68 div.sk-parallel-item:last-child::after {align-self: flex-start;width: 50%;}#sk-02d24667-ba9d-4af3-a932-96bea9b27d68 div.sk-parallel-item:only-child::after {width: 0;}#sk-02d24667-ba9d-4af3-a932-96bea9b27d68 div.sk-dashed-wrapped {border: 1px dashed gray;margin: 0 0.4em 0.5em 0.4em;box-sizing: border-box;padding-bottom: 0.4em;background-color: white;position: relative;}#sk-02d24667-ba9d-4af3-a932-96bea9b27d68 div.sk-label label {font-family: monospace;font-weight: bold;background-color: white;display: inline-block;line-height: 1.2em;}#sk-02d24667-ba9d-4af3-a932-96bea9b27d68 div.sk-label-container {position: relative;z-index: 2;text-align: center;}#sk-02d24667-ba9d-4af3-a932-96bea9b27d68 div.sk-container {/* jupyter's `normalize.less` sets `[hidden] { display: none; }` but bootstrap.min.css set `[hidden] { display: none !important; }` so we also need the `!important` here to be able to override the default hidden behavior on the sphinx rendered scikit-learn.org. See: https://github.com/scikit-learn/scikit-learn/issues/21755 */display: inline-block !important;position: relative;}#sk-02d24667-ba9d-4af3-a932-96bea9b27d68 div.sk-text-repr-fallback {display: none;}</style><div id=\"sk-02d24667-ba9d-4af3-a932-96bea9b27d68\" class=\"sk-top-container\"><div class=\"sk-text-repr-fallback\"><pre>Pipeline(steps=[(&#x27;imputer&#x27;, SimpleImputer()), (&#x27;pre&#x27;, RobustScaler()),\n",
       "                (&#x27;poly&#x27;, PolynomialFeatures()),\n",
       "                (&#x27;selection&#x27;,\n",
       "                 SelectFromModel(estimator=RandomForestRegressor(n_estimators=150,\n",
       "                                                                 random_state=1))),\n",
       "                (&#x27;model&#x27;,\n",
       "                 RandomForestRegressor(n_estimators=450, random_state=1))])</pre><b>Please rerun this cell to show the HTML repr or trust the notebook.</b></div><div class=\"sk-container\" hidden><div class=\"sk-item sk-dashed-wrapped\"><div class=\"sk-label-container\"><div class=\"sk-label sk-toggleable\"><input class=\"sk-toggleable__control sk-hidden--visually\" id=\"e4381f02-ff30-4a00-8666-a64ac534c604\" type=\"checkbox\" ><label for=\"e4381f02-ff30-4a00-8666-a64ac534c604\" class=\"sk-toggleable__label sk-toggleable__label-arrow\">Pipeline</label><div class=\"sk-toggleable__content\"><pre>Pipeline(steps=[(&#x27;imputer&#x27;, SimpleImputer()), (&#x27;pre&#x27;, RobustScaler()),\n",
       "                (&#x27;poly&#x27;, PolynomialFeatures()),\n",
       "                (&#x27;selection&#x27;,\n",
       "                 SelectFromModel(estimator=RandomForestRegressor(n_estimators=150,\n",
       "                                                                 random_state=1))),\n",
       "                (&#x27;model&#x27;,\n",
       "                 RandomForestRegressor(n_estimators=450, random_state=1))])</pre></div></div></div><div class=\"sk-serial\"><div class=\"sk-item\"><div class=\"sk-estimator sk-toggleable\"><input class=\"sk-toggleable__control sk-hidden--visually\" id=\"d7be0aa3-f303-4f93-aa57-84601452b37c\" type=\"checkbox\" ><label for=\"d7be0aa3-f303-4f93-aa57-84601452b37c\" class=\"sk-toggleable__label sk-toggleable__label-arrow\">SimpleImputer</label><div class=\"sk-toggleable__content\"><pre>SimpleImputer()</pre></div></div></div><div class=\"sk-item\"><div class=\"sk-estimator sk-toggleable\"><input class=\"sk-toggleable__control sk-hidden--visually\" id=\"fb53fd9a-39a2-45f1-9d3c-fbb581d15c96\" type=\"checkbox\" ><label for=\"fb53fd9a-39a2-45f1-9d3c-fbb581d15c96\" class=\"sk-toggleable__label sk-toggleable__label-arrow\">RobustScaler</label><div class=\"sk-toggleable__content\"><pre>RobustScaler()</pre></div></div></div><div class=\"sk-item\"><div class=\"sk-estimator sk-toggleable\"><input class=\"sk-toggleable__control sk-hidden--visually\" id=\"224b1e6f-50b8-44c5-a53a-09701d7b29e8\" type=\"checkbox\" ><label for=\"224b1e6f-50b8-44c5-a53a-09701d7b29e8\" class=\"sk-toggleable__label sk-toggleable__label-arrow\">PolynomialFeatures</label><div class=\"sk-toggleable__content\"><pre>PolynomialFeatures()</pre></div></div></div><div class=\"sk-item sk-dashed-wrapped\"><div class=\"sk-label-container\"><div class=\"sk-label sk-toggleable\"><input class=\"sk-toggleable__control sk-hidden--visually\" id=\"53aae8f1-248d-4367-8b7a-5addc2ff7970\" type=\"checkbox\" ><label for=\"53aae8f1-248d-4367-8b7a-5addc2ff7970\" class=\"sk-toggleable__label sk-toggleable__label-arrow\">selection: SelectFromModel</label><div class=\"sk-toggleable__content\"><pre>SelectFromModel(estimator=RandomForestRegressor(n_estimators=150,\n",
       "                                                random_state=1))</pre></div></div></div><div class=\"sk-parallel\"><div class=\"sk-parallel-item\"><div class=\"sk-item\"><div class=\"sk-serial\"><div class=\"sk-item\"><div class=\"sk-estimator sk-toggleable\"><input class=\"sk-toggleable__control sk-hidden--visually\" id=\"ba6e07ac-1602-4161-8d92-a990c83c4371\" type=\"checkbox\" ><label for=\"ba6e07ac-1602-4161-8d92-a990c83c4371\" class=\"sk-toggleable__label sk-toggleable__label-arrow\">RandomForestRegressor</label><div class=\"sk-toggleable__content\"><pre>RandomForestRegressor(n_estimators=150, random_state=1)</pre></div></div></div></div></div></div></div></div><div class=\"sk-item\"><div class=\"sk-estimator sk-toggleable\"><input class=\"sk-toggleable__control sk-hidden--visually\" id=\"f06838ab-c34d-487d-8bf8-5ac4fcc44bea\" type=\"checkbox\" ><label for=\"f06838ab-c34d-487d-8bf8-5ac4fcc44bea\" class=\"sk-toggleable__label sk-toggleable__label-arrow\">RandomForestRegressor</label><div class=\"sk-toggleable__content\"><pre>RandomForestRegressor(n_estimators=450, random_state=1)</pre></div></div></div></div></div></div></div>"
      ],
      "text/plain": [
       "Pipeline(steps=[('imputer', SimpleImputer()), ('pre', RobustScaler()),\n",
       "                ('poly', PolynomialFeatures()),\n",
       "                ('selection',\n",
       "                 SelectFromModel(estimator=RandomForestRegressor(n_estimators=150,\n",
       "                                                                 random_state=1))),\n",
       "                ('model',\n",
       "                 RandomForestRegressor(n_estimators=450, random_state=1))])"
      ]
     },
     "execution_count": 408,
     "metadata": {},
     "output_type": "execute_result"
    }
   ],
   "source": [
    "clf_xg.fit(final_df[cols][:-1].values, final_df[('Data Storage capacity added per day', 'median')][:-1].values)"
   ]
  },
  {
   "cell_type": "code",
   "execution_count": 410,
   "metadata": {
    "execution": {
     "iopub.execute_input": "2022-12-09T21:26:43.040119Z",
     "iopub.status.busy": "2022-12-09T21:26:43.039664Z",
     "iopub.status.idle": "2022-12-09T21:26:43.122870Z",
     "shell.execute_reply": "2022-12-09T21:26:43.121848Z",
     "shell.execute_reply.started": "2022-12-09T21:26:43.040085Z"
    }
   },
   "outputs": [
    {
     "data": {
      "text/plain": [
       "20432085538.684444"
      ]
     },
     "execution_count": 410,
     "metadata": {},
     "output_type": "execute_result"
    }
   ],
   "source": [
    "clf_xg.predict(final_df[cols][-1:].values)[0]"
   ]
  }
 ],
 "metadata": {
  "kernelspec": {
   "display_name": "Python 3 (ipykernel)",
   "language": "python",
   "name": "python3"
  },
  "language_info": {
   "codemirror_mode": {
    "name": "ipython",
    "version": 3
   },
   "file_extension": ".py",
   "mimetype": "text/x-python",
   "name": "python",
   "nbconvert_exporter": "python",
   "pygments_lexer": "ipython3",
   "version": "3.12.2"
  }
 },
 "nbformat": 4,
 "nbformat_minor": 4
}
